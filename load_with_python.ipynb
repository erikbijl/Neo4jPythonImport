{
 "cells": [
  {
   "cell_type": "markdown",
   "id": "8ab0dcd1-945f-407b-a9c9-dcb6d89f4311",
   "metadata": {},
   "source": [
    "# Load Data to Neo4j using Python"
   ]
  },
  {
   "cell_type": "markdown",
   "id": "60ed4043-6649-4253-87ac-6dce4bb53779",
   "metadata": {},
   "source": [
    "The following notebook contains the code to illustrate how to load and interact with Neo4j using Python. For the connection to the database we use the Neo4j Python Driver. Documentation can be found here: [Python Driver Neo4j](https://neo4j.com/docs/api/python-driver/current/)."
   ]
  },
  {
   "cell_type": "markdown",
   "id": "35b97e8e-8353-4cf3-862d-0b4ac007062e",
   "metadata": {},
   "source": [
    "We need to import the following libraries. This can be done using pip. "
   ]
  },
  {
   "cell_type": "code",
   "execution_count": 1,
   "id": "611b892a-32ee-4caa-8c11-354132172ae2",
   "metadata": {},
   "outputs": [],
   "source": [
    "import pandas as pd\n",
    "import os\n",
    "from dotenv import load_dotenv\n",
    "from neo4j import GraphDatabase"
   ]
  },
  {
   "cell_type": "markdown",
   "id": "d645df56-373d-4abc-954e-adf31c49cc1a",
   "metadata": {},
   "source": [
    "## Set credentials for Neo4j"
   ]
  },
  {
   "cell_type": "markdown",
   "id": "9a5dca77-b597-4b6d-a645-fe62643d2bd8",
   "metadata": {},
   "source": [
    "Credentials should be stored in a separate file: `credentials.env`"
   ]
  },
  {
   "cell_type": "code",
   "execution_count": 2,
   "id": "212c48b0-9e22-4a84-a7ee-0b9f9e67d000",
   "metadata": {},
   "outputs": [],
   "source": [
    "if os.path.exists('credentials.env'):\n",
    "    load_dotenv('credentials.env', override=True)\n",
    "\n",
    "    # Neo4j\n",
    "    uri = os.getenv('NEO4J_URI')\n",
    "    username = os.getenv('NEO4J_USERNAME')\n",
    "    password = os.getenv('NEO4J_PASSWORD')\n",
    "    database = os.getenv('NEO4J_DATABASE')\n",
    "    import_directory = os.getenv('NEO4j_IMPORT')\n",
    "else:\n",
    "    print(\"File 'credentials.env' not found.\")"
   ]
  },
  {
   "cell_type": "markdown",
   "id": "52b756a0-45b3-494b-9ae7-bb9259ac226d",
   "metadata": {},
   "source": [
    "## Setup Python Driver connection"
   ]
  },
  {
   "cell_type": "markdown",
   "id": "7343039a-6829-4a97-a1f5-22e3316807ad",
   "metadata": {},
   "source": [
    "Setup the Python Driver for Neo4j with the loaded credentials"
   ]
  },
  {
   "cell_type": "code",
   "execution_count": 3,
   "id": "9fbc570c-f51f-4b82-8130-6f615949c7ab",
   "metadata": {},
   "outputs": [],
   "source": [
    "class App:\n",
    "    def __init__(self, uri, user, password, database=None):\n",
    "        self.driver = GraphDatabase.driver(uri, auth=(user, password), database=database)\n",
    "        self.database = database\n",
    "\n",
    "    def close(self):\n",
    "        self.driver.close()\n",
    "\n",
    "    def query(self, query):\n",
    "        return self.driver.execute_query(query)\n",
    "\n",
    "    def query_params(self, query, parameters):\n",
    "        return self.driver.execute_query(query, parameters_=parameters)\n",
    "\n",
    "    def count_nodes_in_db(self):\n",
    "        query = \"MATCH (n) RETURN COUNT(n)\"\n",
    "        result = self.query(query)\n",
    "        (key, value) = result.records[0].items()[0]\n",
    "        return value\n",
    "\n",
    "    def remove_nodes_relationships(self):\n",
    "        query =\"\"\"\n",
    "            CALL apoc.periodic.iterate(\n",
    "                \"MATCH (c) RETURN c\",\n",
    "                \"WITH c DETACH DELETE c\",\n",
    "                {batchSize: 1000}\n",
    "            )\n",
    "        \"\"\"\n",
    "        result = self.query(query)\n",
    "\n",
    "    def remove_all_constraints(self):\n",
    "        query =\"\"\"\n",
    "            CALL apoc.schema.assert({}, {})\n",
    "        \"\"\"\n",
    "        result = self.query(query)"
   ]
  },
  {
   "cell_type": "code",
   "execution_count": 4,
   "id": "21e3a277-3616-4141-82da-aac83d66e347",
   "metadata": {},
   "outputs": [],
   "source": [
    "app = App(uri, username, password, database)"
   ]
  },
  {
   "cell_type": "code",
   "execution_count": 5,
   "id": "05d55188-4d2f-45c6-93d0-a665227aebd7",
   "metadata": {},
   "outputs": [
    {
     "data": {
      "text/plain": [
       "1915"
      ]
     },
     "execution_count": 5,
     "metadata": {},
     "output_type": "execute_result"
    }
   ],
   "source": [
    "app.count_nodes_in_db()"
   ]
  },
  {
   "cell_type": "markdown",
   "id": "897aedbc-a703-4d9d-a348-20abc2bff013",
   "metadata": {},
   "source": [
    "## Read data"
   ]
  },
  {
   "cell_type": "code",
   "execution_count": 6,
   "id": "9ed138ce-ec06-47d3-a417-9468edd475d4",
   "metadata": {},
   "outputs": [],
   "source": [
    "flights_df = pd.read_csv('flights_sample.csv')"
   ]
  },
  {
   "cell_type": "code",
   "execution_count": 7,
   "id": "ded894d5-86c3-4b5a-b41e-12b4fb5017cb",
   "metadata": {},
   "outputs": [
    {
     "data": {
      "text/html": [
       "<div>\n",
       "<style scoped>\n",
       "    .dataframe tbody tr th:only-of-type {\n",
       "        vertical-align: middle;\n",
       "    }\n",
       "\n",
       "    .dataframe tbody tr th {\n",
       "        vertical-align: top;\n",
       "    }\n",
       "\n",
       "    .dataframe thead th {\n",
       "        text-align: right;\n",
       "    }\n",
       "</style>\n",
       "<table border=\"1\" class=\"dataframe\">\n",
       "  <thead>\n",
       "    <tr style=\"text-align: right;\">\n",
       "      <th></th>\n",
       "      <th>Unnamed: 0</th>\n",
       "      <th>YEAR</th>\n",
       "      <th>MONTH</th>\n",
       "      <th>DAY</th>\n",
       "      <th>DAY_OF_WEEK</th>\n",
       "      <th>AIRLINE</th>\n",
       "      <th>FLIGHT_NUMBER</th>\n",
       "      <th>TAIL_NUMBER</th>\n",
       "      <th>ORIGIN_AIRPORT</th>\n",
       "      <th>DESTINATION_AIRPORT</th>\n",
       "      <th>...</th>\n",
       "      <th>ARRIVAL_TIME</th>\n",
       "      <th>ARRIVAL_DELAY</th>\n",
       "      <th>DIVERTED</th>\n",
       "      <th>CANCELLED</th>\n",
       "      <th>CANCELLATION_REASON</th>\n",
       "      <th>AIR_SYSTEM_DELAY</th>\n",
       "      <th>SECURITY_DELAY</th>\n",
       "      <th>AIRLINE_DELAY</th>\n",
       "      <th>LATE_AIRCRAFT_DELAY</th>\n",
       "      <th>WEATHER_DELAY</th>\n",
       "    </tr>\n",
       "  </thead>\n",
       "  <tbody>\n",
       "    <tr>\n",
       "      <th>0</th>\n",
       "      <td>0</td>\n",
       "      <td>2015</td>\n",
       "      <td>1</td>\n",
       "      <td>1</td>\n",
       "      <td>4</td>\n",
       "      <td>AS</td>\n",
       "      <td>98</td>\n",
       "      <td>N407AS</td>\n",
       "      <td>ANC</td>\n",
       "      <td>SEA</td>\n",
       "      <td>...</td>\n",
       "      <td>408.0</td>\n",
       "      <td>-22.0</td>\n",
       "      <td>0</td>\n",
       "      <td>0</td>\n",
       "      <td>NaN</td>\n",
       "      <td>NaN</td>\n",
       "      <td>NaN</td>\n",
       "      <td>NaN</td>\n",
       "      <td>NaN</td>\n",
       "      <td>NaN</td>\n",
       "    </tr>\n",
       "    <tr>\n",
       "      <th>1</th>\n",
       "      <td>1</td>\n",
       "      <td>2015</td>\n",
       "      <td>1</td>\n",
       "      <td>1</td>\n",
       "      <td>4</td>\n",
       "      <td>AA</td>\n",
       "      <td>2336</td>\n",
       "      <td>N3KUAA</td>\n",
       "      <td>LAX</td>\n",
       "      <td>PBI</td>\n",
       "      <td>...</td>\n",
       "      <td>741.0</td>\n",
       "      <td>-9.0</td>\n",
       "      <td>0</td>\n",
       "      <td>0</td>\n",
       "      <td>NaN</td>\n",
       "      <td>NaN</td>\n",
       "      <td>NaN</td>\n",
       "      <td>NaN</td>\n",
       "      <td>NaN</td>\n",
       "      <td>NaN</td>\n",
       "    </tr>\n",
       "    <tr>\n",
       "      <th>2</th>\n",
       "      <td>2</td>\n",
       "      <td>2015</td>\n",
       "      <td>1</td>\n",
       "      <td>1</td>\n",
       "      <td>4</td>\n",
       "      <td>US</td>\n",
       "      <td>840</td>\n",
       "      <td>N171US</td>\n",
       "      <td>SFO</td>\n",
       "      <td>CLT</td>\n",
       "      <td>...</td>\n",
       "      <td>811.0</td>\n",
       "      <td>5.0</td>\n",
       "      <td>0</td>\n",
       "      <td>0</td>\n",
       "      <td>NaN</td>\n",
       "      <td>NaN</td>\n",
       "      <td>NaN</td>\n",
       "      <td>NaN</td>\n",
       "      <td>NaN</td>\n",
       "      <td>NaN</td>\n",
       "    </tr>\n",
       "    <tr>\n",
       "      <th>3</th>\n",
       "      <td>3</td>\n",
       "      <td>2015</td>\n",
       "      <td>1</td>\n",
       "      <td>1</td>\n",
       "      <td>4</td>\n",
       "      <td>AA</td>\n",
       "      <td>258</td>\n",
       "      <td>N3HYAA</td>\n",
       "      <td>LAX</td>\n",
       "      <td>MIA</td>\n",
       "      <td>...</td>\n",
       "      <td>756.0</td>\n",
       "      <td>-9.0</td>\n",
       "      <td>0</td>\n",
       "      <td>0</td>\n",
       "      <td>NaN</td>\n",
       "      <td>NaN</td>\n",
       "      <td>NaN</td>\n",
       "      <td>NaN</td>\n",
       "      <td>NaN</td>\n",
       "      <td>NaN</td>\n",
       "    </tr>\n",
       "    <tr>\n",
       "      <th>4</th>\n",
       "      <td>4</td>\n",
       "      <td>2015</td>\n",
       "      <td>1</td>\n",
       "      <td>1</td>\n",
       "      <td>4</td>\n",
       "      <td>AS</td>\n",
       "      <td>135</td>\n",
       "      <td>N527AS</td>\n",
       "      <td>SEA</td>\n",
       "      <td>ANC</td>\n",
       "      <td>...</td>\n",
       "      <td>259.0</td>\n",
       "      <td>-21.0</td>\n",
       "      <td>0</td>\n",
       "      <td>0</td>\n",
       "      <td>NaN</td>\n",
       "      <td>NaN</td>\n",
       "      <td>NaN</td>\n",
       "      <td>NaN</td>\n",
       "      <td>NaN</td>\n",
       "      <td>NaN</td>\n",
       "    </tr>\n",
       "    <tr>\n",
       "      <th>...</th>\n",
       "      <td>...</td>\n",
       "      <td>...</td>\n",
       "      <td>...</td>\n",
       "      <td>...</td>\n",
       "      <td>...</td>\n",
       "      <td>...</td>\n",
       "      <td>...</td>\n",
       "      <td>...</td>\n",
       "      <td>...</td>\n",
       "      <td>...</td>\n",
       "      <td>...</td>\n",
       "      <td>...</td>\n",
       "      <td>...</td>\n",
       "      <td>...</td>\n",
       "      <td>...</td>\n",
       "      <td>...</td>\n",
       "      <td>...</td>\n",
       "      <td>...</td>\n",
       "      <td>...</td>\n",
       "      <td>...</td>\n",
       "      <td>...</td>\n",
       "    </tr>\n",
       "    <tr>\n",
       "      <th>99995</th>\n",
       "      <td>99995</td>\n",
       "      <td>2015</td>\n",
       "      <td>1</td>\n",
       "      <td>7</td>\n",
       "      <td>3</td>\n",
       "      <td>EV</td>\n",
       "      <td>4992</td>\n",
       "      <td>N837AS</td>\n",
       "      <td>ATL</td>\n",
       "      <td>BQK</td>\n",
       "      <td>...</td>\n",
       "      <td>1208.0</td>\n",
       "      <td>-11.0</td>\n",
       "      <td>0</td>\n",
       "      <td>0</td>\n",
       "      <td>NaN</td>\n",
       "      <td>NaN</td>\n",
       "      <td>NaN</td>\n",
       "      <td>NaN</td>\n",
       "      <td>NaN</td>\n",
       "      <td>NaN</td>\n",
       "    </tr>\n",
       "    <tr>\n",
       "      <th>99996</th>\n",
       "      <td>99996</td>\n",
       "      <td>2015</td>\n",
       "      <td>1</td>\n",
       "      <td>7</td>\n",
       "      <td>3</td>\n",
       "      <td>NK</td>\n",
       "      <td>394</td>\n",
       "      <td>N522NK</td>\n",
       "      <td>LAS</td>\n",
       "      <td>PHL</td>\n",
       "      <td>...</td>\n",
       "      <td>1844.0</td>\n",
       "      <td>2.0</td>\n",
       "      <td>0</td>\n",
       "      <td>0</td>\n",
       "      <td>NaN</td>\n",
       "      <td>NaN</td>\n",
       "      <td>NaN</td>\n",
       "      <td>NaN</td>\n",
       "      <td>NaN</td>\n",
       "      <td>NaN</td>\n",
       "    </tr>\n",
       "    <tr>\n",
       "      <th>99997</th>\n",
       "      <td>99997</td>\n",
       "      <td>2015</td>\n",
       "      <td>1</td>\n",
       "      <td>7</td>\n",
       "      <td>3</td>\n",
       "      <td>OO</td>\n",
       "      <td>5606</td>\n",
       "      <td>N582SW</td>\n",
       "      <td>SFO</td>\n",
       "      <td>BFL</td>\n",
       "      <td>...</td>\n",
       "      <td>1232.0</td>\n",
       "      <td>7.0</td>\n",
       "      <td>0</td>\n",
       "      <td>0</td>\n",
       "      <td>NaN</td>\n",
       "      <td>NaN</td>\n",
       "      <td>NaN</td>\n",
       "      <td>NaN</td>\n",
       "      <td>NaN</td>\n",
       "      <td>NaN</td>\n",
       "    </tr>\n",
       "    <tr>\n",
       "      <th>99998</th>\n",
       "      <td>99998</td>\n",
       "      <td>2015</td>\n",
       "      <td>1</td>\n",
       "      <td>7</td>\n",
       "      <td>3</td>\n",
       "      <td>UA</td>\n",
       "      <td>1135</td>\n",
       "      <td>N38473</td>\n",
       "      <td>ORD</td>\n",
       "      <td>MCO</td>\n",
       "      <td>...</td>\n",
       "      <td>1453.0</td>\n",
       "      <td>-1.0</td>\n",
       "      <td>0</td>\n",
       "      <td>0</td>\n",
       "      <td>NaN</td>\n",
       "      <td>NaN</td>\n",
       "      <td>NaN</td>\n",
       "      <td>NaN</td>\n",
       "      <td>NaN</td>\n",
       "      <td>NaN</td>\n",
       "    </tr>\n",
       "    <tr>\n",
       "      <th>99999</th>\n",
       "      <td>99999</td>\n",
       "      <td>2015</td>\n",
       "      <td>1</td>\n",
       "      <td>7</td>\n",
       "      <td>3</td>\n",
       "      <td>AA</td>\n",
       "      <td>74</td>\n",
       "      <td>N4XLAA</td>\n",
       "      <td>HOU</td>\n",
       "      <td>DFW</td>\n",
       "      <td>...</td>\n",
       "      <td>1212.0</td>\n",
       "      <td>-8.0</td>\n",
       "      <td>0</td>\n",
       "      <td>0</td>\n",
       "      <td>NaN</td>\n",
       "      <td>NaN</td>\n",
       "      <td>NaN</td>\n",
       "      <td>NaN</td>\n",
       "      <td>NaN</td>\n",
       "      <td>NaN</td>\n",
       "    </tr>\n",
       "  </tbody>\n",
       "</table>\n",
       "<p>100000 rows × 32 columns</p>\n",
       "</div>"
      ],
      "text/plain": [
       "       Unnamed: 0  YEAR  MONTH  DAY  DAY_OF_WEEK AIRLINE  FLIGHT_NUMBER  \\\n",
       "0               0  2015      1    1            4      AS             98   \n",
       "1               1  2015      1    1            4      AA           2336   \n",
       "2               2  2015      1    1            4      US            840   \n",
       "3               3  2015      1    1            4      AA            258   \n",
       "4               4  2015      1    1            4      AS            135   \n",
       "...           ...   ...    ...  ...          ...     ...            ...   \n",
       "99995       99995  2015      1    7            3      EV           4992   \n",
       "99996       99996  2015      1    7            3      NK            394   \n",
       "99997       99997  2015      1    7            3      OO           5606   \n",
       "99998       99998  2015      1    7            3      UA           1135   \n",
       "99999       99999  2015      1    7            3      AA             74   \n",
       "\n",
       "      TAIL_NUMBER ORIGIN_AIRPORT DESTINATION_AIRPORT  ...  ARRIVAL_TIME  \\\n",
       "0          N407AS            ANC                 SEA  ...         408.0   \n",
       "1          N3KUAA            LAX                 PBI  ...         741.0   \n",
       "2          N171US            SFO                 CLT  ...         811.0   \n",
       "3          N3HYAA            LAX                 MIA  ...         756.0   \n",
       "4          N527AS            SEA                 ANC  ...         259.0   \n",
       "...           ...            ...                 ...  ...           ...   \n",
       "99995      N837AS            ATL                 BQK  ...        1208.0   \n",
       "99996      N522NK            LAS                 PHL  ...        1844.0   \n",
       "99997      N582SW            SFO                 BFL  ...        1232.0   \n",
       "99998      N38473            ORD                 MCO  ...        1453.0   \n",
       "99999      N4XLAA            HOU                 DFW  ...        1212.0   \n",
       "\n",
       "       ARRIVAL_DELAY  DIVERTED  CANCELLED  CANCELLATION_REASON  \\\n",
       "0              -22.0         0          0                  NaN   \n",
       "1               -9.0         0          0                  NaN   \n",
       "2                5.0         0          0                  NaN   \n",
       "3               -9.0         0          0                  NaN   \n",
       "4              -21.0         0          0                  NaN   \n",
       "...              ...       ...        ...                  ...   \n",
       "99995          -11.0         0          0                  NaN   \n",
       "99996            2.0         0          0                  NaN   \n",
       "99997            7.0         0          0                  NaN   \n",
       "99998           -1.0         0          0                  NaN   \n",
       "99999           -8.0         0          0                  NaN   \n",
       "\n",
       "       AIR_SYSTEM_DELAY  SECURITY_DELAY  AIRLINE_DELAY  LATE_AIRCRAFT_DELAY  \\\n",
       "0                   NaN             NaN            NaN                  NaN   \n",
       "1                   NaN             NaN            NaN                  NaN   \n",
       "2                   NaN             NaN            NaN                  NaN   \n",
       "3                   NaN             NaN            NaN                  NaN   \n",
       "4                   NaN             NaN            NaN                  NaN   \n",
       "...                 ...             ...            ...                  ...   \n",
       "99995               NaN             NaN            NaN                  NaN   \n",
       "99996               NaN             NaN            NaN                  NaN   \n",
       "99997               NaN             NaN            NaN                  NaN   \n",
       "99998               NaN             NaN            NaN                  NaN   \n",
       "99999               NaN             NaN            NaN                  NaN   \n",
       "\n",
       "       WEATHER_DELAY  \n",
       "0                NaN  \n",
       "1                NaN  \n",
       "2                NaN  \n",
       "3                NaN  \n",
       "4                NaN  \n",
       "...              ...  \n",
       "99995            NaN  \n",
       "99996            NaN  \n",
       "99997            NaN  \n",
       "99998            NaN  \n",
       "99999            NaN  \n",
       "\n",
       "[100000 rows x 32 columns]"
      ]
     },
     "execution_count": 7,
     "metadata": {},
     "output_type": "execute_result"
    }
   ],
   "source": [
    "flights_df"
   ]
  },
  {
   "cell_type": "markdown",
   "id": "66f11aa7-a536-476e-8098-26b45a30c84c",
   "metadata": {},
   "source": [
    "### Airport Nodes"
   ]
  },
  {
   "cell_type": "markdown",
   "id": "33eb1dbb-c080-4625-896a-d63295a9cd93",
   "metadata": {},
   "source": [
    "Create the airport nodes"
   ]
  },
  {
   "cell_type": "code",
   "execution_count": 267,
   "id": "c9118017-8c29-428f-b769-06d15c36ed82",
   "metadata": {},
   "outputs": [
    {
     "data": {
      "text/plain": [
       "0            ANC\n",
       "1            LAX\n",
       "2            SFO\n",
       "4            SEA\n",
       "6            LAS\n",
       "           ...  \n",
       "4860107    14222\n",
       "4860211    14025\n",
       "4862332    13502\n",
       "4864328    15497\n",
       "4867209    12265\n",
       "Name: name, Length: 930, dtype: object"
      ]
     },
     "execution_count": 267,
     "metadata": {},
     "output_type": "execute_result"
    }
   ],
   "source": [
    "airports_from = flights_df['ORIGIN_AIRPORT'].drop_duplicates()\n",
    "airports_from.rename(\"name\")"
   ]
  },
  {
   "cell_type": "code",
   "execution_count": 268,
   "id": "f48d3ea3-8ba3-45d7-98e2-85e43e174827",
   "metadata": {},
   "outputs": [
    {
     "data": {
      "text/plain": [
       "0            SEA\n",
       "1            PBI\n",
       "2            CLT\n",
       "3            MIA\n",
       "4            ANC\n",
       "           ...  \n",
       "4860028    14025\n",
       "4861640    15497\n",
       "4865073    12265\n",
       "4865185    10581\n",
       "4871534    10666\n",
       "Name: name, Length: 930, dtype: object"
      ]
     },
     "execution_count": 268,
     "metadata": {},
     "output_type": "execute_result"
    }
   ],
   "source": [
    "airports_to = flights_df['DESTINATION_AIRPORT'].drop_duplicates()\n",
    "airports_to.rename(\"name\")"
   ]
  },
  {
   "cell_type": "code",
   "execution_count": 269,
   "id": "46b2a196-edba-4fbd-8e35-e2f25de40c2e",
   "metadata": {},
   "outputs": [],
   "source": [
    "airports_df = pd.concat([airports_from, airports_to]).drop_duplicates()\n",
    "airports_df = airports_df.to_frame(name='name')"
   ]
  },
  {
   "cell_type": "code",
   "execution_count": 270,
   "id": "596fa067-1776-43ae-a173-3f712d3f9a20",
   "metadata": {},
   "outputs": [
    {
     "data": {
      "text/html": [
       "<div>\n",
       "<style scoped>\n",
       "    .dataframe tbody tr th:only-of-type {\n",
       "        vertical-align: middle;\n",
       "    }\n",
       "\n",
       "    .dataframe tbody tr th {\n",
       "        vertical-align: top;\n",
       "    }\n",
       "\n",
       "    .dataframe thead th {\n",
       "        text-align: right;\n",
       "    }\n",
       "</style>\n",
       "<table border=\"1\" class=\"dataframe\">\n",
       "  <thead>\n",
       "    <tr style=\"text-align: right;\">\n",
       "      <th></th>\n",
       "      <th>name</th>\n",
       "    </tr>\n",
       "  </thead>\n",
       "  <tbody>\n",
       "    <tr>\n",
       "      <th>0</th>\n",
       "      <td>ANC</td>\n",
       "    </tr>\n",
       "    <tr>\n",
       "      <th>1</th>\n",
       "      <td>LAX</td>\n",
       "    </tr>\n",
       "    <tr>\n",
       "      <th>2</th>\n",
       "      <td>SFO</td>\n",
       "    </tr>\n",
       "    <tr>\n",
       "      <th>4</th>\n",
       "      <td>SEA</td>\n",
       "    </tr>\n",
       "    <tr>\n",
       "      <th>6</th>\n",
       "      <td>LAS</td>\n",
       "    </tr>\n",
       "    <tr>\n",
       "      <th>...</th>\n",
       "      <td>...</td>\n",
       "    </tr>\n",
       "    <tr>\n",
       "      <th>4860211</th>\n",
       "      <td>14025</td>\n",
       "    </tr>\n",
       "    <tr>\n",
       "      <th>4862332</th>\n",
       "      <td>13502</td>\n",
       "    </tr>\n",
       "    <tr>\n",
       "      <th>4864328</th>\n",
       "      <td>15497</td>\n",
       "    </tr>\n",
       "    <tr>\n",
       "      <th>4867209</th>\n",
       "      <td>12265</td>\n",
       "    </tr>\n",
       "    <tr>\n",
       "      <th>4871534</th>\n",
       "      <td>10666</td>\n",
       "    </tr>\n",
       "  </tbody>\n",
       "</table>\n",
       "<p>931 rows × 1 columns</p>\n",
       "</div>"
      ],
      "text/plain": [
       "          name\n",
       "0          ANC\n",
       "1          LAX\n",
       "2          SFO\n",
       "4          SEA\n",
       "6          LAS\n",
       "...        ...\n",
       "4860211  14025\n",
       "4862332  13502\n",
       "4864328  15497\n",
       "4867209  12265\n",
       "4871534  10666\n",
       "\n",
       "[931 rows x 1 columns]"
      ]
     },
     "execution_count": 270,
     "metadata": {},
     "output_type": "execute_result"
    }
   ],
   "source": [
    "airports_df"
   ]
  },
  {
   "cell_type": "code",
   "execution_count": 271,
   "id": "2c4bac9e-456b-4d2f-ae14-d2a6a68bda45",
   "metadata": {},
   "outputs": [],
   "source": [
    "file_name = 'airports.csv'"
   ]
  },
  {
   "cell_type": "code",
   "execution_count": 272,
   "id": "7ced029d-750b-479f-8dde-a1c95c15622f",
   "metadata": {},
   "outputs": [],
   "source": [
    "path = import_directory + file_name"
   ]
  },
  {
   "cell_type": "code",
   "execution_count": 273,
   "id": "b17bdec7-f6ba-4b6c-9399-aba77349cec6",
   "metadata": {},
   "outputs": [],
   "source": [
    "airports_df.to_csv(path, index=False)"
   ]
  },
  {
   "cell_type": "markdown",
   "id": "83360dd6-c347-408f-b057-0a4d3ebe0f8f",
   "metadata": {},
   "source": [
    "### Flight relationships"
   ]
  },
  {
   "cell_type": "markdown",
   "id": "7ac5039d-9d21-4e73-9762-745f6099529b",
   "metadata": {},
   "source": [
    "Create the flight relationships"
   ]
  },
  {
   "cell_type": "code",
   "execution_count": 274,
   "id": "f57dae94-6802-413b-bf23-e2a0b6c7ee43",
   "metadata": {},
   "outputs": [],
   "source": [
    "columns = ['YEAR', 'MONTH', 'DAY', 'AIRLINE', 'FLIGHT_NUMBER', 'ORIGIN_AIRPORT', 'DESTINATION_AIRPORT']"
   ]
  },
  {
   "cell_type": "code",
   "execution_count": 275,
   "id": "4466f353-1048-4f3c-af17-9b9dcd0e9c21",
   "metadata": {},
   "outputs": [],
   "source": [
    "columns_lowered = {x: x.lower() for x in columns}"
   ]
  },
  {
   "cell_type": "code",
   "execution_count": 276,
   "id": "9a5c60dd-9149-4d57-a099-8d685b024447",
   "metadata": {},
   "outputs": [],
   "source": [
    "flights_df = (\n",
    "    flights_df[columns]\n",
    "    .drop_duplicates()\n",
    "    .head(100000)\n",
    ")"
   ]
  },
  {
   "cell_type": "code",
   "execution_count": 277,
   "id": "53e84219-1b1f-4178-af72-2c9961744c3c",
   "metadata": {},
   "outputs": [],
   "source": [
    "flights_df = flights_df.rename(columns=columns_lowered)"
   ]
  },
  {
   "cell_type": "code",
   "execution_count": 278,
   "id": "eff67b56-9aaf-40b8-adf4-897fd9abf596",
   "metadata": {},
   "outputs": [
    {
     "data": {
      "text/html": [
       "<div>\n",
       "<style scoped>\n",
       "    .dataframe tbody tr th:only-of-type {\n",
       "        vertical-align: middle;\n",
       "    }\n",
       "\n",
       "    .dataframe tbody tr th {\n",
       "        vertical-align: top;\n",
       "    }\n",
       "\n",
       "    .dataframe thead th {\n",
       "        text-align: right;\n",
       "    }\n",
       "</style>\n",
       "<table border=\"1\" class=\"dataframe\">\n",
       "  <thead>\n",
       "    <tr style=\"text-align: right;\">\n",
       "      <th></th>\n",
       "      <th>year</th>\n",
       "      <th>month</th>\n",
       "      <th>day</th>\n",
       "      <th>airline</th>\n",
       "      <th>flight_number</th>\n",
       "      <th>origin_airport</th>\n",
       "      <th>destination_airport</th>\n",
       "    </tr>\n",
       "  </thead>\n",
       "  <tbody>\n",
       "    <tr>\n",
       "      <th>0</th>\n",
       "      <td>2015</td>\n",
       "      <td>1</td>\n",
       "      <td>1</td>\n",
       "      <td>AS</td>\n",
       "      <td>98</td>\n",
       "      <td>ANC</td>\n",
       "      <td>SEA</td>\n",
       "    </tr>\n",
       "    <tr>\n",
       "      <th>1</th>\n",
       "      <td>2015</td>\n",
       "      <td>1</td>\n",
       "      <td>1</td>\n",
       "      <td>AA</td>\n",
       "      <td>2336</td>\n",
       "      <td>LAX</td>\n",
       "      <td>PBI</td>\n",
       "    </tr>\n",
       "    <tr>\n",
       "      <th>2</th>\n",
       "      <td>2015</td>\n",
       "      <td>1</td>\n",
       "      <td>1</td>\n",
       "      <td>US</td>\n",
       "      <td>840</td>\n",
       "      <td>SFO</td>\n",
       "      <td>CLT</td>\n",
       "    </tr>\n",
       "    <tr>\n",
       "      <th>3</th>\n",
       "      <td>2015</td>\n",
       "      <td>1</td>\n",
       "      <td>1</td>\n",
       "      <td>AA</td>\n",
       "      <td>258</td>\n",
       "      <td>LAX</td>\n",
       "      <td>MIA</td>\n",
       "    </tr>\n",
       "    <tr>\n",
       "      <th>4</th>\n",
       "      <td>2015</td>\n",
       "      <td>1</td>\n",
       "      <td>1</td>\n",
       "      <td>AS</td>\n",
       "      <td>135</td>\n",
       "      <td>SEA</td>\n",
       "      <td>ANC</td>\n",
       "    </tr>\n",
       "    <tr>\n",
       "      <th>...</th>\n",
       "      <td>...</td>\n",
       "      <td>...</td>\n",
       "      <td>...</td>\n",
       "      <td>...</td>\n",
       "      <td>...</td>\n",
       "      <td>...</td>\n",
       "      <td>...</td>\n",
       "    </tr>\n",
       "    <tr>\n",
       "      <th>99995</th>\n",
       "      <td>2015</td>\n",
       "      <td>1</td>\n",
       "      <td>7</td>\n",
       "      <td>EV</td>\n",
       "      <td>4992</td>\n",
       "      <td>ATL</td>\n",
       "      <td>BQK</td>\n",
       "    </tr>\n",
       "    <tr>\n",
       "      <th>99996</th>\n",
       "      <td>2015</td>\n",
       "      <td>1</td>\n",
       "      <td>7</td>\n",
       "      <td>NK</td>\n",
       "      <td>394</td>\n",
       "      <td>LAS</td>\n",
       "      <td>PHL</td>\n",
       "    </tr>\n",
       "    <tr>\n",
       "      <th>99997</th>\n",
       "      <td>2015</td>\n",
       "      <td>1</td>\n",
       "      <td>7</td>\n",
       "      <td>OO</td>\n",
       "      <td>5606</td>\n",
       "      <td>SFO</td>\n",
       "      <td>BFL</td>\n",
       "    </tr>\n",
       "    <tr>\n",
       "      <th>99998</th>\n",
       "      <td>2015</td>\n",
       "      <td>1</td>\n",
       "      <td>7</td>\n",
       "      <td>UA</td>\n",
       "      <td>1135</td>\n",
       "      <td>ORD</td>\n",
       "      <td>MCO</td>\n",
       "    </tr>\n",
       "    <tr>\n",
       "      <th>99999</th>\n",
       "      <td>2015</td>\n",
       "      <td>1</td>\n",
       "      <td>7</td>\n",
       "      <td>AA</td>\n",
       "      <td>74</td>\n",
       "      <td>HOU</td>\n",
       "      <td>DFW</td>\n",
       "    </tr>\n",
       "  </tbody>\n",
       "</table>\n",
       "<p>100000 rows × 7 columns</p>\n",
       "</div>"
      ],
      "text/plain": [
       "       year  month  day airline  flight_number origin_airport  \\\n",
       "0      2015      1    1      AS             98            ANC   \n",
       "1      2015      1    1      AA           2336            LAX   \n",
       "2      2015      1    1      US            840            SFO   \n",
       "3      2015      1    1      AA            258            LAX   \n",
       "4      2015      1    1      AS            135            SEA   \n",
       "...     ...    ...  ...     ...            ...            ...   \n",
       "99995  2015      1    7      EV           4992            ATL   \n",
       "99996  2015      1    7      NK            394            LAS   \n",
       "99997  2015      1    7      OO           5606            SFO   \n",
       "99998  2015      1    7      UA           1135            ORD   \n",
       "99999  2015      1    7      AA             74            HOU   \n",
       "\n",
       "      destination_airport  \n",
       "0                     SEA  \n",
       "1                     PBI  \n",
       "2                     CLT  \n",
       "3                     MIA  \n",
       "4                     ANC  \n",
       "...                   ...  \n",
       "99995                 BQK  \n",
       "99996                 PHL  \n",
       "99997                 BFL  \n",
       "99998                 MCO  \n",
       "99999                 DFW  \n",
       "\n",
       "[100000 rows x 7 columns]"
      ]
     },
     "execution_count": 278,
     "metadata": {},
     "output_type": "execute_result"
    }
   ],
   "source": [
    "flights_df"
   ]
  },
  {
   "cell_type": "code",
   "execution_count": 279,
   "id": "2d374aa0-3e26-481f-b26a-021217ee7242",
   "metadata": {},
   "outputs": [],
   "source": [
    "file_name = 'flights.csv'"
   ]
  },
  {
   "cell_type": "code",
   "execution_count": 280,
   "id": "920ab3ae-3293-461e-893f-96b48e596741",
   "metadata": {},
   "outputs": [],
   "source": [
    "path = import_directory + file_name"
   ]
  },
  {
   "cell_type": "code",
   "execution_count": 281,
   "id": "91924997-007a-4d30-9116-5756d491d215",
   "metadata": {},
   "outputs": [],
   "source": [
    "flights_df.to_csv(path, index=False)"
   ]
  },
  {
   "cell_type": "markdown",
   "id": "f63e27e3-128d-478f-9958-5eac8e035d58",
   "metadata": {},
   "source": [
    "## Load Data to Neo4j"
   ]
  },
  {
   "cell_type": "markdown",
   "id": "d91ded15-41b9-474a-8553-e46c3b8335e3",
   "metadata": {},
   "source": [
    "Load the airport nodes"
   ]
  },
  {
   "cell_type": "code",
   "execution_count": 282,
   "id": "3dfba8e4-0baa-4d82-9de0-36790e2b04b4",
   "metadata": {},
   "outputs": [],
   "source": [
    "query = \"\"\"\n",
    "        LOAD CSV WITH HEADERS FROM \"file:///airports.csv\" AS row    \n",
    "        MERGE (x:Airport {    name: row.name})\n",
    "    \"\"\""
   ]
  },
  {
   "cell_type": "code",
   "execution_count": 283,
   "id": "81d06378-9a29-422b-b02e-42964fd78490",
   "metadata": {},
   "outputs": [
    {
     "data": {
      "text/plain": [
       "EagerResult(records=[], summary=<neo4j._work.summary.ResultSummary object at 0x384c03490>, keys=[])"
      ]
     },
     "execution_count": 283,
     "metadata": {},
     "output_type": "execute_result"
    }
   ],
   "source": [
    "app.query(query)"
   ]
  },
  {
   "cell_type": "markdown",
   "id": "155d10fd-c960-4143-9616-34141adab2ea",
   "metadata": {},
   "source": [
    "Load the flight relationships"
   ]
  },
  {
   "cell_type": "code",
   "execution_count": 284,
   "id": "0fd1bf06-8d3b-4a5a-af43-962be70c51ce",
   "metadata": {},
   "outputs": [],
   "source": [
    "query = \"\"\"\n",
    "    LOAD CSV WITH HEADERS FROM \"file:///flights.csv\" AS row\n",
    "    MATCH (from:Airport {name: row.origin_airport})\n",
    "    MATCH (to:Airport {name: row.destination_airport})\n",
    "    MERGE (from)-[x:HAS_FLIGHT {\n",
    "        day: row.day, \n",
    "        airline: row.airline, \n",
    "        flight_number: row.flight_number\n",
    "    }]->(to)\n",
    "\"\"\""
   ]
  },
  {
   "cell_type": "code",
   "execution_count": 285,
   "id": "c8e14268-daf3-4ca5-98b1-5aa9b2f39edb",
   "metadata": {},
   "outputs": [
    {
     "data": {
      "text/plain": [
       "EagerResult(records=[], summary=<neo4j._work.summary.ResultSummary object at 0x139494850>, keys=[])"
      ]
     },
     "execution_count": 285,
     "metadata": {},
     "output_type": "execute_result"
    }
   ],
   "source": [
    "app.query(query)"
   ]
  },
  {
   "cell_type": "markdown",
   "id": "e75257ba-25a2-46a3-b7d2-c3d35077a5df",
   "metadata": {},
   "source": [
    "### Generate queries"
   ]
  },
  {
   "cell_type": "markdown",
   "id": "4b425a61-fa92-4322-a267-f8410a945ab8",
   "metadata": {},
   "source": [
    "Below there are some queries to automatically generate queries using the file itself. "
   ]
  },
  {
   "cell_type": "code",
   "execution_count": 286,
   "id": "99f90cae-38fb-440e-a89b-c16dfc1719fe",
   "metadata": {},
   "outputs": [],
   "source": [
    "def generate_import_query_nodes(df, file_name, node_type):\n",
    "    query = f\"\"\"\n",
    "    LOAD CSV WITH HEADERS FROM \"file:///{file_name}\" AS row\n",
    "    MERGE (x:{node_type} {{\n",
    "    \"\"\"\n",
    "    properties = [f\"{col}: row.{col}\" for col in df.columns]\n",
    "    query += \", \".join(properties)\n",
    "    query += \"})\"\n",
    "    query = query.replace('\\n', '')\n",
    "    return query\n",
    "\n",
    "def create_constraint(node_label, property):\n",
    "    query = f\"CREATE CONSTRAINT {node_label}_{property} IF NOT EXISTS FOR (x:{node_label}) REQUIRE (x.{property}) IS UNIQUE\"\n",
    "    return query\n",
    "\n",
    "def generate_import_query_relationships(df, file_name, relationship_type, node_from, property_from_node, property_from_df,  node_to, property_to_node, property_to_df):\n",
    "    query = f\"\"\"\n",
    "    LOAD CSV WITH HEADERS FROM \"file:///{file_name}\" AS row\n",
    "\n",
    "    MATCH (from:{node_from} {{{property_from_node}: row.{property_from_df}}})\n",
    "    MATCH (to:{node_to} {{{property_to_node}: row.{property_to_df}}})\n",
    "    MERGE (from)-[x:{relationship_type} {{\n",
    "    \"\"\"\n",
    "    properties = df.columns[2:]\n",
    "    properties = [f\"{col}: row.{col}\" for col in properties]\n",
    "    query += \", \".join(properties)\n",
    "    query += \"}]->(to)\"\n",
    "    query = query.replace('\\n', '')\n",
    "    return query"
   ]
  },
  {
   "cell_type": "code",
   "execution_count": 287,
   "id": "3f0968cd-090a-4749-86ec-c97c50553e43",
   "metadata": {},
   "outputs": [],
   "source": [
    "query = generate_import_query_nodes(airports_df, 'airports.csv', 'Airport')"
   ]
  },
  {
   "cell_type": "code",
   "execution_count": 288,
   "id": "0f09fa51-11b1-40b4-b752-62548ef1cce1",
   "metadata": {},
   "outputs": [
    {
     "name": "stdout",
     "output_type": "stream",
     "text": [
      "    LOAD CSV WITH HEADERS FROM \"file:///airports.csv\" AS row    MERGE (x:Airport {    name: row.name})\n"
     ]
    }
   ],
   "source": [
    "print(query)"
   ]
  },
  {
   "cell_type": "code",
   "execution_count": 289,
   "id": "6b0639d0-537d-4ebb-a568-531541d20eac",
   "metadata": {},
   "outputs": [
    {
     "data": {
      "text/plain": [
       "EagerResult(records=[], summary=<neo4j._work.summary.ResultSummary object at 0x39288a490>, keys=[])"
      ]
     },
     "execution_count": 289,
     "metadata": {},
     "output_type": "execute_result"
    }
   ],
   "source": [
    "app.query(query)"
   ]
  },
  {
   "cell_type": "code",
   "execution_count": 290,
   "id": "480c270f-8244-4042-8149-efea7e7d7aeb",
   "metadata": {},
   "outputs": [],
   "source": [
    "query = generate_import_query_relationships(flights_df, 'flights.csv', 'HAS_FLIGHT', 'Airport', 'name', 'origin_airport', 'Airport', 'name', 'destination_airport') "
   ]
  },
  {
   "cell_type": "code",
   "execution_count": 291,
   "id": "14c13e70-e9e5-4670-baa2-61bcd7b82352",
   "metadata": {},
   "outputs": [
    {
     "data": {
      "text/plain": [
       "'    LOAD CSV WITH HEADERS FROM \"file:///flights.csv\" AS row    MATCH (from:Airport {name: row.origin_airport})    MATCH (to:Airport {name: row.destination_airport})    MERGE (from)-[x:HAS_FLIGHT {    day: row.day, airline: row.airline, flight_number: row.flight_number, origin_airport: row.origin_airport, destination_airport: row.destination_airport}]->(to)'"
      ]
     },
     "execution_count": 291,
     "metadata": {},
     "output_type": "execute_result"
    }
   ],
   "source": [
    "query"
   ]
  },
  {
   "cell_type": "code",
   "execution_count": 292,
   "id": "1b786446-d749-4cc2-a0ee-6535158270f9",
   "metadata": {},
   "outputs": [
    {
     "data": {
      "text/plain": [
       "EagerResult(records=[], summary=<neo4j._work.summary.ResultSummary object at 0x3958e05e0>, keys=[])"
      ]
     },
     "execution_count": 292,
     "metadata": {},
     "output_type": "execute_result"
    }
   ],
   "source": [
    "app.query(query)"
   ]
  }
 ],
 "metadata": {
  "kernelspec": {
   "display_name": "Python 3 (ipykernel)",
   "language": "python",
   "name": "python3"
  },
  "language_info": {
   "codemirror_mode": {
    "name": "ipython",
    "version": 3
   },
   "file_extension": ".py",
   "mimetype": "text/x-python",
   "name": "python",
   "nbconvert_exporter": "python",
   "pygments_lexer": "ipython3",
   "version": "3.9.18"
  }
 },
 "nbformat": 4,
 "nbformat_minor": 5
}
